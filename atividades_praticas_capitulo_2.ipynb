{
  "nbformat": 4,
  "nbformat_minor": 0,
  "metadata": {
    "colab": {
      "provenance": [],
      "authorship_tag": "ABX9TyP9DquzJI0E7agMtgZkS7zm",
      "include_colab_link": true
    },
    "kernelspec": {
      "name": "python3",
      "display_name": "Python 3"
    },
    "language_info": {
      "name": "python"
    }
  },
  "cells": [
    {
      "cell_type": "markdown",
      "metadata": {
        "id": "view-in-github",
        "colab_type": "text"
      },
      "source": [
        "<a href=\"https://colab.research.google.com/github/FernandoRLS/atividades_capitulo_2/blob/main/atividades_praticas_capitulo_2.ipynb\" target=\"_parent\"><img src=\"https://colab.research.google.com/assets/colab-badge.svg\" alt=\"Open In Colab\"/></a>"
      ]
    },
    {
      "cell_type": "markdown",
      "source": [
        "1. Introdução\n",
        "\n",
        "Análise crítica\n",
        "\n",
        "Ética na programação e segurança digital refere-se ao conjunto de princípios e práticas responsáveis que guiam o comportamento de programadores e profissionais de TI, especialmente no tratamento seguro e ético das informações dos usuários. Segundo Masiero (2008), a ética em computação envolve tomar decisões morais relacionadas ao uso e ao desenvolvimento de tecnologias digitais. Já para Freitas (2020), a segurança digital implica proteger sistemas e dados contra acessos não autorizados, mantendo a integridade, confidencialidade e disponibilidade das informações.\n",
        "\n",
        "Contextualização\n",
        "\n",
        "No filme Hacker (Anonymous), o uso da programação é evidenciado principalmente na capacidade técnica dos personagens para acessar informações restritas e realizar operações complexas em ambientes digitais. Destacam-se aspectos como invasões de sistemas para expor corrupção, utilização de criptografia, e a ética envolvida nas decisões sobre invadir ou não determinados sistemas. Conforme destaca Peck (2018), a programação pode tanto proteger quanto ameaçar sistemas, dependendo do propósito e da ética envolvida em sua utilização.\n",
        "\n",
        "2. Análise do Filme\n",
        "\n",
        "Discussão Guiada\n",
        "\n",
        "Como os personagens utilizam seus conhecimentos de programação?\n",
        "Os personagens utilizam seus conhecimentos de programação para invadir sistemas de segurança, extrair informações sigilosas, e expor fraudes e corrupção. Utilizam técnicas avançadas como engenharia social, criptografia, exploits e scripts automatizados.\n",
        "\n",
        "Que problemas no filme poderiam ser resolvidos com diferentes abordagens tecnológicas?\n",
        "Ao invés de invasões diretas, poderiam ter utilizado métodos legais e éticos, como denúncias seguras utilizando plataformas criptografadas e anônimas ou técnicas mais sofisticadas de segurança digital para proteger denunciantes. O uso de inteligência artificial para detectar automaticamente atividades fraudulentas também seria uma solução tecnológica viável.\n",
        "\n",
        "Qual é o impacto das escolhas dos protagonistas em relação à ética na programação?\n",
        "As escolhas dos protagonistas trazem à tona o dilema ético na programação: o uso das habilidades técnicas para causas consideradas justas versus a violação de leis e privacidade. Embora tenham boas intenções, suas ações resultam em consequências legais e morais graves."
      ],
      "metadata": {
        "id": "QcYmUMmQF8jo"
      }
    },
    {
      "cell_type": "markdown",
      "source": [],
      "metadata": {
        "id": "hv1IA_ZJT1E0"
      }
    },
    {
      "cell_type": "markdown",
      "source": [
        "3. Resolução de Problemas com Linguagem de Programação"
      ],
      "metadata": {
        "id": "jbEXE3HaIh3Q"
      }
    },
    {
      "cell_type": "code",
      "execution_count": null,
      "metadata": {
        "colab": {
          "base_uri": "https://localhost:8080/"
        },
        "id": "hvQ_DNSDFPpK",
        "outputId": "e9d9a5a5-970c-4a34-f38e-356fcb152fd1"
      },
      "outputs": [
        {
          "output_type": "stream",
          "name": "stdout",
          "text": [
            "Senha segura gerada: b.n]-sBryKNK\n"
          ]
        }
      ],
      "source": [
        "import random  # Importa o módulo random para gerar caracteres aleatórios\n",
        "import string  # Importa o módulo string que contém caracteres padrão\n",
        "\n",
        "def gerar_senha_segura(comprimento=12):\n",
        "    caracteres = string.ascii_letters + string.digits + string.punctuation  # Combina letras, dígitos e pontuações\n",
        "    senha = ''.join(random.choice(caracteres) for i in range(comprimento))  # Gera senha aleatória com o comprimento definido\n",
        "    return senha  # Retorna a senha gerada\n",
        "\n",
        "print(\"Senha segura gerada:\", gerar_senha_segura())  # Imprime a senha segura gerada"
      ]
    },
    {
      "cell_type": "markdown",
      "source": [],
      "metadata": {
        "id": "LOaMKF4SF11g"
      }
    },
    {
      "cell_type": "code",
      "source": [
        "logs = [\"login_sucesso\", \"login_falha\", \"tentativa_ataque\", \"login_sucesso\"]  # Lista com registros de eventos\n",
        "\n",
        "ataques = [log for log in logs if \"ataque\" in log or \"falha\" in log]  # Filtra eventos considerados suspeitos\n",
        "\n",
        "print(\"Atividades suspeitas detectadas:\", ataques)  # Imprime atividades suspeitas encontradas"
      ],
      "metadata": {
        "colab": {
          "base_uri": "https://localhost:8080/"
        },
        "id": "iVUHoEFIFhbp",
        "outputId": "c8500e72-dd21-4d22-d38b-c59f08f9e96f"
      },
      "execution_count": null,
      "outputs": [
        {
          "output_type": "stream",
          "name": "stdout",
          "text": [
            "Atividades suspeitas detectadas: ['login_falha', 'tentativa_ataque']\n"
          ]
        }
      ]
    },
    {
      "cell_type": "markdown",
      "source": [
        "4. Indicação de Problemas para Resolução e Pontuação"
      ],
      "metadata": {
        "id": "y-HjX0B5Im-_"
      }
    },
    {
      "cell_type": "code",
      "source": [
        "usuarios = {\"user1\": \"senha123\", \"admin\": \"adminpass\"}\n",
        "usuarios = {\"user1\": \"senha123\", \"admin\": \"adminpass\"}  # Dicionário contendo usuários e senhas\n",
        "\n",
        "def login(usuario, senha):  # Define função para autenticação\n",
        "    if usuarios.get(usuario) == senha:  # Verifica se usuário e senha correspondem\n",
        "        return \"Login efetuado com sucesso!\"  # Retorna sucesso caso correspondam\n",
        "    else:\n",
        "        return \"Falha no login!\"  # Retorna falha caso não correspondam\n",
        "\n",
        "print(login(\"user1\", \"senha123\"))  # Testa função com dados válidos"
      ],
      "metadata": {
        "colab": {
          "base_uri": "https://localhost:8080/"
        },
        "id": "89e7v__LIpz3",
        "outputId": "6a24d06b-640e-4cef-da12-5df931ad641f"
      },
      "execution_count": null,
      "outputs": [
        {
          "output_type": "stream",
          "name": "stdout",
          "text": [
            "Login efetuado com sucesso!\n"
          ]
        }
      ]
    },
    {
      "cell_type": "code",
      "source": [
        "acessos = [\"192.168.1.1\", \"10.0.0.1\", \"192.168.1.1\", \"172.16.0.1\", \"10.0.0.1\"]  # Lista de IPs que acessaram a rede\n",
        "\n",
        "suspeitos = {ip for ip in acessos if acessos.count(ip) > 1}  # Identifica IPs com mais de um acesso (considerados suspeitos)\n",
        "\n",
        "print(\"IPs suspeitos detectados:\", suspeitos)  # Imprime IPs suspeitos encontrados"
      ],
      "metadata": {
        "colab": {
          "base_uri": "https://localhost:8080/"
        },
        "id": "bHbfI_CqIslP",
        "outputId": "c6d54d97-58ba-459d-b905-8b84f3af1c02"
      },
      "execution_count": null,
      "outputs": [
        {
          "output_type": "stream",
          "name": "stdout",
          "text": [
            "IPs suspeitos detectados: {'10.0.0.1', '192.168.1.1'}\n"
          ]
        }
      ]
    },
    {
      "cell_type": "markdown",
      "source": [
        "Referências\n",
        "\n",
        "FREITAS, Hiarley. Segurança Digital. Clube de Autores, 2020.\n",
        "\n",
        "MASIERO, Paulo César. Ética em Computação. 1. ed. São Paulo: Edusp, 2008. ISBN 978-85-314-0575-4.\n",
        "\n",
        "PECK, Patricia. Direito Digital. 6. ed. São Paulo: Saraiva, 2018. ISBN 978-85-02-26790-7.\n",
        "\n"
      ],
      "metadata": {
        "id": "ILaFVEPlIvMn"
      }
    }
  ]
}